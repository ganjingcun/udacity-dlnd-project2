{
 "cells": [
  {
   "cell_type": "markdown",
   "metadata": {
    "collapsed": true,
    "deletable": true,
    "editable": true
   },
   "source": [
    "# Image Classification\n",
    "In this project, you'll classify images from the [CIFAR-10 dataset](https://www.cs.toronto.edu/~kriz/cifar.html).  The dataset consists of airplanes, dogs, cats, and other objects. You'll preprocess the images, then train a convolutional neural network on all the samples. The images need to be normalized and the labels need to be one-hot encoded.  You'll get to apply what you learned and build a convolutional, max pooling, dropout, and fully connected layers.  At the end, you'll get to see your neural network's predictions on the sample images.\n",
    "## Get the Data\n",
    "Run the following cell to download the [CIFAR-10 dataset for python](https://www.cs.toronto.edu/~kriz/cifar-10-python.tar.gz)."
   ]
  },
  {
   "cell_type": "code",
   "execution_count": 1,
   "metadata": {
    "collapsed": false,
    "deletable": true,
    "editable": true
   },
   "outputs": [
    {
     "name": "stdout",
     "output_type": "stream",
     "text": [
      "All files found!\n"
     ]
    }
   ],
   "source": [
    "\"\"\"\n",
    "DON'T MODIFY ANYTHING IN THIS CELL THAT IS BELOW THIS LINE\n",
    "\"\"\"\n",
    "from urllib.request import urlretrieve\n",
    "from os.path import isfile, isdir\n",
    "from tqdm import tqdm\n",
    "import problem_unittests as tests\n",
    "import tarfile\n",
    "\n",
    "cifar10_dataset_folder_path = 'cifar-10-batches-py'\n",
    "\n",
    "class DLProgress(tqdm):\n",
    "    last_block = 0\n",
    "\n",
    "    def hook(self, block_num=1, block_size=1, total_size=None):\n",
    "        self.total = total_size\n",
    "        self.update((block_num - self.last_block) * block_size)\n",
    "        self.last_block = block_num\n",
    "\n",
    "if not isfile('cifar-10-python.tar.gz'):\n",
    "    with DLProgress(unit='B', unit_scale=True, miniters=1, desc='CIFAR-10 Dataset') as pbar:\n",
    "        urlretrieve(\n",
    "            'https://www.cs.toronto.edu/~kriz/cifar-10-python.tar.gz',\n",
    "            'cifar-10-python.tar.gz',\n",
    "            pbar.hook)\n",
    "\n",
    "if not isdir(cifar10_dataset_folder_path):\n",
    "    with tarfile.open('cifar-10-python.tar.gz') as tar:\n",
    "        tar.extractall()\n",
    "        tar.close()\n",
    "\n",
    "\n",
    "tests.test_folder_path(cifar10_dataset_folder_path)"
   ]
  },
  {
   "cell_type": "markdown",
   "metadata": {
    "deletable": true,
    "editable": true
   },
   "source": [
    "## Explore the Data\n",
    "The dataset is broken into batches to prevent your machine from running out of memory.  The CIFAR-10 dataset consists of 5 batches, named `data_batch_1`, `data_batch_2`, etc.. Each batch contains the labels and images that are one of the following:\n",
    "* airplane\n",
    "* automobile\n",
    "* bird\n",
    "* cat\n",
    "* deer\n",
    "* dog\n",
    "* frog\n",
    "* horse\n",
    "* ship\n",
    "* truck\n",
    "\n",
    "Understanding a dataset is part of making predictions on the data.  Play around with the code cell below by changing the `batch_id` and `sample_id`. The `batch_id` is the id for a batch (1-5). The `sample_id` is the id for a image and label pair in the batch.\n",
    "\n",
    "Ask yourself \"What are all possible labels?\", \"What is the range of values for the image data?\", \"Are the labels in order or random?\".  Answers to questions like these will help you preprocess the data and end up with better predictions."
   ]
  },
  {
   "cell_type": "code",
   "execution_count": 2,
   "metadata": {
    "collapsed": false,
    "deletable": true,
    "editable": true
   },
   "outputs": [
    {
     "name": "stdout",
     "output_type": "stream",
     "text": [
      "\n",
      "Stats of batch 1:\n",
      "Samples: 10000\n",
      "Label Counts: {0: 1005, 1: 974, 2: 1032, 3: 1016, 4: 999, 5: 937, 6: 1030, 7: 1001, 8: 1025, 9: 981}\n",
      "First 20 Labels: [6, 9, 9, 4, 1, 1, 2, 7, 8, 3, 4, 7, 7, 2, 9, 9, 9, 3, 2, 6]\n",
      "\n",
      "Example of Image 7:\n",
      "Image - Min Value: 9 Max Value: 248\n",
      "Image - Shape: (32, 32, 3)\n",
      "Label - Label Id: 7 Name: horse\n"
     ]
    },
    {
     "data": {
      "image/png": "[encoded data removed]",
      "text/plain": [
       "<matplotlib.figure.Figure at 0x7f79add94278>"
      ]
     },
     "metadata": {
      "image/png": {
       "height": 250,
       "width": 253
      }
     },
     "output_type": "display_data"
    }
   ],
   "source": [
    "%matplotlib inline\n",
    "%config InlineBackend.figure_format = 'retina'\n",
    "\n",
    "import helper\n",
    "import numpy as np\n",
    "\n",
    "# Explore the dataset\n",
    "batch_id = 1\n",
    "sample_id = 7\n",
    "helper.display_stats(cifar10_dataset_folder_path, batch_id, sample_id)"
   ]
  },
  {
   "cell_type": "markdown",
   "metadata": {
    "deletable": true,
    "editable": true
   },
   "source": [
    "## Implement Preprocess Functions\n",
    "### Normalize\n",
    "In the cell below, implement the `normalize` function to take in image data, `x`, and return it as a normalized Numpy array. The values should be in the range of 0 to 1, inclusive.  The return object should be the same shape as `x`."
   ]
  },
  {
   "cell_type": "code",
   "execution_count": 3,
   "metadata": {
    "collapsed": false,
    "deletable": true,
    "editable": true
   },
   "outputs": [
    {
     "name": "stdout",
     "output_type": "stream",
     "text": [
      "Tests Passed\n"
     ]
    }
   ],
   "source": [
    "def normalize(x):\n",
    "    \"\"\"\n",
    "    Normalize a list of sample image data in the range of 0 to 1\n",
    "    : x: List of image data.  The image shape is (32, 32, 3)\n",
    "    : return: Numpy array of normalize data\n",
    "    \"\"\"\n",
    "    \n",
    "    return x / np.linalg.norm(x)\n",
    "\n",
    "\n",
    "\"\"\"\n",
    "DON'T MODIFY ANYTHING IN THIS CELL THAT IS BELOW THIS LINE\n",
    "\"\"\"\n",
    "tests.test_normalize(normalize)"
   ]
  },
  {
   "cell_type": "markdown",
   "metadata": {
    "deletable": true,
    "editable": true
   },
   "source": [
    "### One-hot encode\n",
    "Just like the previous code cell, you'll be implementing a function for preprocessing.  This time, you'll implement the `one_hot_encode` function. The input, `x`, are a list of labels.  Implement the function to return the list of labels as One-Hot encoded Numpy array.  The possible values for labels are 0 to 9. The one-hot encoding function should return the same encoding for each value between each call to `one_hot_encode`.  Make sure to save the map of encodings outside the function.\n",
    "\n",
    "Hint: Don't reinvent the wheel."
   ]
  },
  {
   "cell_type": "code",
   "execution_count": 4,
   "metadata": {
    "collapsed": false,
    "deletable": true,
    "editable": true
   },
   "outputs": [
    {
     "name": "stdout",
     "output_type": "stream",
     "text": [
      "Tests Passed\n"
     ]
    }
   ],
   "source": [
    "def one_hot_encode(x):\n",
    "    \"\"\"\n",
    "    One hot encode a list of sample labels. Return a one-hot encoded vector for each label.\n",
    "    : x: List of sample Labels\n",
    "    : return: Numpy array of one-hot encoded labels\n",
    "    \"\"\"\n",
    "    result = np.zeros((len(x), 10))\n",
    "    result[np.arange(len(x)), x] = 1\n",
    "    return result\n",
    "\n",
    "    \n",
    "\n",
    "\n",
    "\"\"\"\n",
    "DON'T MODIFY ANYTHING IN THIS CELL THAT IS BELOW THIS LINE\n",
    "\"\"\"\n",
    "tests.test_one_hot_encode(one_hot_encode)"
   ]
  },
  {
   "cell_type": "markdown",
   "metadata": {
    "deletable": true,
    "editable": true
   },
   "source": [
    "### Randomize Data\n",
    "As you saw from exploring the data above, the order of the samples are randomized.  It doesn't hurt to randomize it again, but you don't need to for this dataset."
   ]
  },
  {
   "cell_type": "markdown",
   "metadata": {
    "deletable": true,
    "editable": true
   },
   "source": [
    "## Preprocess all the data and save it\n",
    "Running the code cell below will preprocess all the CIFAR-10 data and save it to file. The code below also uses 10% of the training data for validation."
   ]
  },
  {
   "cell_type": "code",
   "execution_count": 5,
   "metadata": {
    "collapsed": false,
    "deletable": true,
    "editable": true
   },
   "outputs": [],
   "source": [
    "\"\"\"\n",
    "DON'T MODIFY ANYTHING IN THIS CELL\n",
    "\"\"\"\n",
    "# Preprocess Training, Validation, and Testing Data\n",
    "helper.preprocess_and_save_data(cifar10_dataset_folder_path, normalize, one_hot_encode)"
   ]
  },
  {
   "cell_type": "markdown",
   "metadata": {
    "deletable": true,
    "editable": true
   },
   "source": [
    "# Check Point\n",
    "This is your first checkpoint.  If you ever decide to come back to this notebook or have to restart the notebook, you can start from here.  The preprocessed data has been saved to disk."
   ]
  },
  {
   "cell_type": "code",
   "execution_count": 6,
   "metadata": {
    "collapsed": true,
    "deletable": true,
    "editable": true
   },
   "outputs": [],
   "source": [
    "\"\"\"\n",
    "DON'T MODIFY ANYTHING IN THIS CELL\n",
    "\"\"\"\n",
    "import pickle\n",
    "import problem_unittests as tests\n",
    "import helper\n",
    "\n",
    "# Load the Preprocessed Validation data\n",
    "valid_features, valid_labels = pickle.load(open('preprocess_validation.p', mode='rb'))"
   ]
  },
  {
   "cell_type": "markdown",
   "metadata": {
    "deletable": true,
    "editable": true
   },
   "source": [
    "## Build the network\n",
    "For the neural network, you'll build each layer into a function.  Most of the code you've seen has been outside of functions. To test your code more thoroughly, we require that you put each layer in a function.  This allows us to give you better feedback and test for simple mistakes using our unittests before you submit your project.\n",
    "\n",
    ">**Note:** If you're finding it hard to dedicate enough time for this course each week, we've provided a small shortcut to this part of the project. In the next couple of problems, you'll have the option to use classes from the [TensorFlow Layers](https://www.tensorflow.org/api_docs/python/tf/layers) or [TensorFlow Layers (contrib)](https://www.tensorflow.org/api_guides/python/contrib.layers) packages to build each layer, except the layers you build in the \"Convolutional and Max Pooling Layer\" section.  TF Layers is similar to Keras's and TFLearn's abstraction to layers, so it's easy to pickup.\n",
    "\n",
    ">However, if you would like to get the most out of this course, try to solve all the problems _without_ using anything from the TF Layers packages. You **can** still use classes from other packages that happen to have the same name as ones you find in TF Layers! For example, instead of using the TF Layers version of the `conv2d` class, [tf.layers.conv2d](https://www.tensorflow.org/api_docs/python/tf/layers/conv2d), you would want to use the TF Neural Network version of `conv2d`, [tf.nn.conv2d](https://www.tensorflow.org/api_docs/python/tf/nn/conv2d). \n",
    "\n",
    "Let's begin!\n",
    "\n",
    "### Input\n",
    "The neural network needs to read the image data, one-hot encoded labels, and dropout keep probability. Implement the following functions\n",
    "* Implement `neural_net_image_input`\n",
    " * Return a [TF Placeholder](https://www.tensorflow.org/api_docs/python/tf/placeholder)\n",
    " * Set the shape using `image_shape` with batch size set to `None`.\n",
    " * Name the TensorFlow placeholder \"x\" using the TensorFlow `name` parameter in the [TF Placeholder](https://www.tensorflow.org/api_docs/python/tf/placeholder).\n",
    "* Implement `neural_net_label_input`\n",
    " * Return a [TF Placeholder](https://www.tensorflow.org/api_docs/python/tf/placeholder)\n",
    " * Set the shape using `n_classes` with batch size set to `None`.\n",
    " * Name the TensorFlow placeholder \"y\" using the TensorFlow `name` parameter in the [TF Placeholder](https://www.tensorflow.org/api_docs/python/tf/placeholder).\n",
    "* Implement `neural_net_keep_prob_input`\n",
    " * Return a [TF Placeholder](https://www.tensorflow.org/api_docs/python/tf/placeholder) for dropout keep probability.\n",
    " * Name the TensorFlow placeholder \"keep_prob\" using the TensorFlow `name` parameter in the [TF Placeholder](https://www.tensorflow.org/api_docs/python/tf/placeholder).\n",
    "\n",
    "These names will be used at the end of the project to load your saved model.\n",
    "\n",
    "Note: `None` for shapes in TensorFlow allow for a dynamic size."
   ]
  },
  {
   "cell_type": "code",
   "execution_count": 7,
   "metadata": {
    "collapsed": false,
    "deletable": true,
    "editable": true
   },
   "outputs": [
    {
     "name": "stdout",
     "output_type": "stream",
     "text": [
      "Image Input Tests Passed.\n",
      "Label Input Tests Passed.\n",
      "Keep Prob Tests Passed.\n"
     ]
    }
   ],
   "source": [
    "import tensorflow as tf\n",
    "\n",
    "def neural_net_image_input(image_shape):\n",
    "    \"\"\"\n",
    "    Return a Tensor for a bach of image input\n",
    "    : image_shape: Shape of the images\n",
    "    : return: Tensor for image input.\n",
    "    \"\"\"\n",
    "    # TODO: Implement Function\n",
    "    \n",
    "    return tf.placeholder(tf.float32, shape = [None, *image_shape], name = \"x\")\n",
    "\n",
    "\n",
    "def neural_net_label_input(n_classes):\n",
    "    \"\"\"\n",
    "    Return a Tensor for a batch of label input\n",
    "    : n_classes: Number of classes\n",
    "    : return: Tensor for label input.\n",
    "    \"\"\"\n",
    "    # TODO: Implement Function\n",
    "    return tf.placeholder(tf.float32, shape = [None, n_classes], name = \"y\")\n",
    "\n",
    "\n",
    "def neural_net_keep_prob_input():\n",
    "    \"\"\"\n",
    "    Return a Tensor for keep probability\n",
    "    : return: Tensor for keep probability.\n",
    "    \"\"\"\n",
    "    # TODO: Implement Function\n",
    "    return tf.placeholder(tf.float32,  name = \"keep_prob\")\n",
    "\n",
    "\n",
    "\"\"\"\n",
    "DON'T MODIFY ANYTHING IN THIS CELL THAT IS BELOW THIS LINE\n",
    "\"\"\"\n",
    "tf.reset_default_graph()\n",
    "tests.test_nn_image_inputs(neural_net_image_input)\n",
    "tests.test_nn_label_inputs(neural_net_label_input)\n",
    "tests.test_nn_keep_prob_inputs(neural_net_keep_prob_input)"
   ]
  },
  {
   "cell_type": "markdown",
   "metadata": {
    "deletable": true,
    "editable": true
   },
   "source": [
    "### Convolution and Max Pooling Layer\n",
    "Convolution layers have a lot of success with images. For this code cell, you should implement the function `conv2d_maxpool` to apply convolution then max pooling:\n",
    "* Create the weight and bias using `conv_ksize`, `conv_num_outputs` and the shape of `x_tensor`.\n",
    "* Apply a convolution to `x_tensor` using weight and `conv_strides`.\n",
    " * We recommend you use same padding, but you're welcome to use any padding.\n",
    "* Add bias\n",
    "* Add a nonlinear activation to the convolution.\n",
    "* Apply Max Pooling using `pool_ksize` and `pool_strides`.\n",
    " * We recommend you use same padding, but you're welcome to use any padding.\n",
    "\n",
    "**Note:** You **can't** use [TensorFlow Layers](https://www.tensorflow.org/api_docs/python/tf/layers) or [TensorFlow Layers (contrib)](https://www.tensorflow.org/api_guides/python/contrib.layers) for **this** layer, but you can still use TensorFlow's [Neural Network](https://www.tensorflow.org/api_docs/python/tf/nn) package. You may still use the shortcut option for all the **other** layers."
   ]
  },
  {
   "cell_type": "code",
   "execution_count": 8,
   "metadata": {
    "collapsed": false,
    "deletable": true,
    "editable": true
   },
   "outputs": [
    {
     "name": "stdout",
     "output_type": "stream",
     "text": [
      "Tests Passed\n"
     ]
    }
   ],
   "source": [
    "def conv2d_maxpool(x_tensor, conv_num_outputs, conv_ksize, conv_strides, pool_ksize, pool_strides):\n",
    "    \"\"\"\n",
    "    Apply convolution then max pooling to x_tensor\n",
    "    :param x_tensor: TensorFlow Tensor\n",
    "    :param conv_num_outputs: Number of outputs for the convolutional layer\n",
    "    :param conv_ksize: kernal size 2-D Tuple for the convolutional layer\n",
    "    :param conv_strides: Stride 2-D Tuple for convolution\n",
    "    :param pool_ksize: kernal size 2-D Tuple for pool\n",
    "    :param pool_strides: Stride 2-D Tuple for pool\n",
    "    : return: A tensor that represents convolution and max pooling of x_tensor\n",
    "    \"\"\"\n",
    "    #input_depth equals 4th D of input\n",
    "    input_depth = int(x_tensor.get_shape()[3])\n",
    "    \n",
    "    #create filter for convolution\n",
    "    #[height, width, input_depth, out_depth]\n",
    "    filter_weights = tf.Variable(tf.truncated_normal([*conv_ksize, input_depth, conv_num_outputs], dtype=tf.float32))\n",
    "    \n",
    "    #use tf.nn.conv2d for convolution step :\n",
    "    #tf.nn.conv2d(input, filter, strides, padding, use_cudnn_on_gpu=None, name=None)\n",
    "    feature_map = tf.nn.conv2d(x_tensor, filter_weights, [1, *conv_strides, 1], 'SAME')\n",
    "\n",
    "    #create bias\n",
    "    bias = tf.Variable(tf.zeros(conv_num_outputs), trainable=True)\n",
    "    #add bias\n",
    "#     feature_map = tf.add(feature_map, bias)\n",
    "    feature_map = tf.nn.bias_add(feature_map, bias)\n",
    "    \n",
    "    #add nonlinear activation function (relu)\n",
    "    feature_map = tf.nn.relu(feature_map)\n",
    "    \n",
    "    #use tf.nn.max_pool for max pooling step:\n",
    "    #tf.nn.max_pool(value, ksize, strides, padding, name=None)\n",
    "    return tf.nn.max_pool(feature_map, [1, *pool_ksize, 1], [1, *pool_strides, 1], 'SAME') \n",
    "\n",
    "\n",
    "\"\"\"\n",
    "DON'T MODIFY ANYTHING IN THIS CELL THAT IS BELOW THIS LINE\n",
    "\"\"\"\n",
    "tests.test_con_pool(conv2d_maxpool)"
   ]
  },
  {
   "cell_type": "markdown",
   "metadata": {
    "deletable": true,
    "editable": true
   },
   "source": [
    "### Flatten Layer\n",
    "Implement the `flatten` function to change the dimension of `x_tensor` from a 4-D tensor to a 2-D tensor.  The output should be the shape (*Batch Size*, *Flattened Image Size*). Shortcut option: you can use classes from the [TensorFlow Layers](https://www.tensorflow.org/api_docs/python/tf/layers) or [TensorFlow Layers (contrib)](https://www.tensorflow.org/api_guides/python/contrib.layers) packages for this layer. For more of a challenge, only use other TensorFlow packages."
   ]
  },
  {
   "cell_type": "code",
   "execution_count": 9,
   "metadata": {
    "collapsed": false,
    "deletable": true,
    "editable": true
   },
   "outputs": [
    {
     "name": "stdout",
     "output_type": "stream",
     "text": [
      "Tests Passed\n"
     ]
    }
   ],
   "source": [
    "def flatten(x_tensor):\n",
    "    \"\"\"\n",
    "    Flatten x_tensor to (Batch Size, Flattened Image Size)\n",
    "    : x_tensor: A tensor of size (Batch Size, ...), where ... are the image dimensions.\n",
    "    : return: A tensor of size (Batch Size, Flattened Image Size).\n",
    "    \"\"\"\n",
    "    w = x_tensor.get_shape().as_list()[1]\n",
    "    h = x_tensor.get_shape().as_list()[2]\n",
    "    d = x_tensor.get_shape().as_list()[3]\n",
    "    w = x_tensor.shape[1].value\n",
    "    h = x_tensor.shape[2].value\n",
    "    d = x_tensor.shape[3].value\n",
    "    return tf.reshape(x_tensor, [-1, w * h * d])\n",
    "\n",
    "#     return tf.contrib.layers.flatten(x_tensor)\n",
    "\n",
    "\n",
    "\"\"\"\n",
    "DON'T MODIFY ANYTHING IN THIS CELL THAT IS BELOW THIS LINE\n",
    "\"\"\"\n",
    "tests.test_flatten(flatten)"
   ]
  },
  {
   "cell_type": "markdown",
   "metadata": {
    "deletable": true,
    "editable": true
   },
   "source": [
    "### Fully-Connected Layer\n",
    "Implement the `fully_conn` function to apply a fully connected layer to `x_tensor` with the shape (*Batch Size*, *num_outputs*). Shortcut option: you can use classes from the [TensorFlow Layers](https://www.tensorflow.org/api_docs/python/tf/layers) or [TensorFlow Layers (contrib)](https://www.tensorflow.org/api_guides/python/contrib.layers) packages for this layer. For more of a challenge, only use other TensorFlow packages."
   ]
  },
  {
   "cell_type": "code",
   "execution_count": 10,
   "metadata": {
    "collapsed": false,
    "deletable": true,
    "editable": true
   },
   "outputs": [
    {
     "name": "stdout",
     "output_type": "stream",
     "text": [
      "Tests Passed\n"
     ]
    }
   ],
   "source": [
    "def fully_conn(x_tensor, num_outputs):\n",
    "    \"\"\"\n",
    "    Apply a fully connected layer to x_tensor using weight and bias\n",
    "    : x_tensor: A 2-D tensor where the first dimension is batch size.\n",
    "    : num_outputs: The number of output that the new tensor should be.\n",
    "    : return: A 2-D tensor where the second dimension is num_outputs.\n",
    "    \"\"\"\n",
    "    return tf.contrib.layers.fully_connected(x_tensor, num_outputs, activation_fn=tf.nn.relu)\n",
    "\n",
    "\n",
    "\"\"\"\n",
    "DON'T MODIFY ANYTHING IN THIS CELL THAT IS BELOW THIS LINE\n",
    "\"\"\"\n",
    "tests.test_fully_conn(fully_conn)"
   ]
  },
  {
   "cell_type": "markdown",
   "metadata": {
    "deletable": true,
    "editable": true
   },
   "source": [
    "### Output Layer\n",
    "Implement the `output` function to apply a fully connected layer to `x_tensor` with the shape (*Batch Size*, *num_outputs*). Shortcut option: you can use classes from the [TensorFlow Layers](https://www.tensorflow.org/api_docs/python/tf/layers) or [TensorFlow Layers (contrib)](https://www.tensorflow.org/api_guides/python/contrib.layers) packages for this layer. For more of a challenge, only use other TensorFlow packages.\n",
    "\n",
    "**Note:** Activation, softmax, or cross entropy should **not** be applied to this."
   ]
  },
  {
   "cell_type": "code",
   "execution_count": 11,
   "metadata": {
    "collapsed": false,
    "deletable": true,
    "editable": true
   },
   "outputs": [
    {
     "name": "stdout",
     "output_type": "stream",
     "text": [
      "Tests Passed\n"
     ]
    }
   ],
   "source": [
    "def output(x_tensor, num_outputs):\n",
    "    \"\"\"\n",
    "    Apply a output layer to x_tensor using weight and bias\n",
    "    : x_tensor: A 2-D tensor where the first dimension is batch size.\n",
    "    : num_outputs: The number of output that the new tensor should be.\n",
    "    : return: A 2-D tensor where the second dimension is num_outputs.\n",
    "    \"\"\"\n",
    "    return tf.contrib.layers.fully_connected(x_tensor, num_outputs, activation_fn=None)\n",
    "\n",
    "\n",
    "\"\"\"\n",
    "DON'T MODIFY ANYTHING IN THIS CELL THAT IS BELOW THIS LINE\n",
    "\"\"\"\n",
    "tests.test_output(output)"
   ]
  },
  {
   "cell_type": "markdown",
   "metadata": {
    "deletable": true,
    "editable": true
   },
   "source": [
    "### Create Convolutional Model\n",
    "Implement the function `conv_net` to create a convolutional neural network model. The function takes in a batch of images, `x`, and outputs logits.  Use the layers you created above to create this model:\n",
    "\n",
    "* Apply 1, 2, or 3 Convolution and Max Pool layers\n",
    "* Apply a Flatten Layer\n",
    "* Apply 1, 2, or 3 Fully Connected Layers\n",
    "* Apply an Output Layer\n",
    "* Return the output\n",
    "* Apply [TensorFlow's Dropout](https://www.tensorflow.org/api_docs/python/tf/nn/dropout) to one or more layers in the model using `keep_prob`. "
   ]
  },
  {
   "cell_type": "code",
   "execution_count": 12,
   "metadata": {
    "collapsed": false,
    "deletable": true,
    "editable": true
   },
   "outputs": [
    {
     "name": "stdout",
     "output_type": "stream",
     "text": [
      "Neural Network Built!\n"
     ]
    }
   ],
   "source": [
    "def conv_net(x, keep_prob):\n",
    "    \"\"\"\n",
    "    Create a convolutional neural network model\n",
    "    : x: Placeholder tensor that holds image data.\n",
    "    : keep_prob: Placeholder tensor that hold dropout keep probability.\n",
    "    : return: Tensor that represents logits\n",
    "    \"\"\"\n",
    "    # TODO: Apply 1, 2, or 3 Convolution and Max Pool layers\n",
    "    #    Play around with different number of outputs, kernel size and stride\n",
    "    # Function Definition from Above:\n",
    "    #    conv2d_maxpool(x_tensor, conv_num_outputs, conv_ksize, conv_strides, pool_ksize, pool_strides)\n",
    "    conv1 = conv2d_maxpool(x, 24, (3, 3), (1, 1),(2, 2), (2, 2))\n",
    "#     conv1 = tf.nn.dropout(conv1, keep_prob)\n",
    "    conv2 = conv2d_maxpool(conv1, 48, (3, 3), (1, 1), (2, 2), (2, 2))\n",
    "#     conv2 = tf.nn.dropout(conv2, keep_prob)\n",
    "    conv3 = conv2d_maxpool(conv2, 96, (3, 3), (1, 1), (2, 2), (2, 2))\n",
    "    \n",
    "    # TODO: Apply a Flatten Layer\n",
    "    # Function Definition from Above:\n",
    "    #   flatten(x_tensor)\n",
    "    flatten_1ayer = flatten(conv3)\n",
    "\n",
    "    # TODO: Apply 1, 2, or 3 Fully Connected Layers\n",
    "    #    Play around with different number of outputs\n",
    "    # Function Definition from Above:\n",
    "    #   fully_conn(x_tensor, num_outputs)\n",
    "    fc1 = fully_conn(flatten_1ayer, 512)\n",
    "    fc1 = tf.nn.dropout(fc1, keep_prob)\n",
    "    fc2 = fully_conn(fc1, 512)\n",
    "    fc2 = tf.nn.dropout(fc2, keep_prob)\n",
    "    \n",
    "    \n",
    "    # TODO: Apply an Output Layer\n",
    "    #    Set this to the number of classes\n",
    "    # Function Definition from Above:\n",
    "    #   output(x_tensor, num_outputs)\n",
    "    out = output(fc2, 10)\n",
    "    \n",
    "    # TODO: return output\n",
    "    return out\n",
    "\n",
    "\n",
    "\"\"\"\n",
    "DON'T MODIFY ANYTHING IN THIS CELL THAT IS BELOW THIS LINE\n",
    "\"\"\"\n",
    "\n",
    "##############################\n",
    "## Build the Neural Network ##\n",
    "##############################\n",
    "\n",
    "# Remove previous weights, bias, inputs, etc..\n",
    "tf.reset_default_graph()\n",
    "\n",
    "# Inputs\n",
    "x = neural_net_image_input((32, 32, 3))\n",
    "y = neural_net_label_input(10)\n",
    "keep_prob = neural_net_keep_prob_input()\n",
    "\n",
    "# Model\n",
    "logits = conv_net(x, keep_prob)\n",
    "\n",
    "# Name logits Tensor, so that is can be loaded from disk after training\n",
    "logits = tf.identity(logits, name='logits')\n",
    "\n",
    "# Loss and Optimizer\n",
    "cost = tf.reduce_mean(tf.nn.softmax_cross_entropy_with_logits(logits=logits, labels=y))\n",
    "optimizer = tf.train.AdamOptimizer().minimize(cost)\n",
    "\n",
    "# Accuracy\n",
    "correct_pred = tf.equal(tf.argmax(logits, 1), tf.argmax(y, 1))\n",
    "accuracy = tf.reduce_mean(tf.cast(correct_pred, tf.float32), name='accuracy')\n",
    "\n",
    "tests.test_conv_net(conv_net)"
   ]
  },
  {
   "cell_type": "markdown",
   "metadata": {
    "deletable": true,
    "editable": true
   },
   "source": [
    "## Train the Neural Network\n",
    "### Single Optimization\n",
    "Implement the function `train_neural_network` to do a single optimization.  The optimization should use `optimizer` to optimize in `session` with a `feed_dict` of the following:\n",
    "* `x` for image input\n",
    "* `y` for labels\n",
    "* `keep_prob` for keep probability for dropout\n",
    "\n",
    "This function will be called for each batch, so `tf.global_variables_initializer()` has already been called.\n",
    "\n",
    "Note: Nothing needs to be returned. This function is only optimizing the neural network."
   ]
  },
  {
   "cell_type": "code",
   "execution_count": 13,
   "metadata": {
    "collapsed": false,
    "deletable": true,
    "editable": true
   },
   "outputs": [
    {
     "name": "stdout",
     "output_type": "stream",
     "text": [
      "Tests Passed\n"
     ]
    }
   ],
   "source": [
    "def train_neural_network(session, optimizer, keep_probability, feature_batch, label_batch):\n",
    "    \"\"\"\n",
    "    Optimize the session on a batch of images and labels\n",
    "    : session: Current TensorFlow session\n",
    "    : optimizer: TensorFlow optimizer function\n",
    "    : keep_probability: keep probability\n",
    "    : feature_batch: Batch of Numpy image data\n",
    "    : label_batch: Batch of Numpy label data\n",
    "    \"\"\"\n",
    "    # TODO: Implement Function\n",
    "    session.run(optimizer, feed_dict={x: feature_batch, y: label_batch, keep_prob: keep_probability})\n",
    "\n",
    "\"\"\"\n",
    "DON'T MODIFY ANYTHING IN THIS CELL THAT IS BELOW THIS LINE\n",
    "\"\"\"\n",
    "tests.test_train_nn(train_neural_network)"
   ]
  },
  {
   "cell_type": "markdown",
   "metadata": {
    "deletable": true,
    "editable": true
   },
   "source": [
    "### Show Stats\n",
    "Implement the function `print_stats` to print loss and validation accuracy.  Use the global variables `valid_features` and `valid_labels` to calculate validation accuracy.  Use a keep probability of `1.0` to calculate the loss and validation accuracy."
   ]
  },
  {
   "cell_type": "code",
   "execution_count": 14,
   "metadata": {
    "collapsed": false,
    "deletable": true,
    "editable": true
   },
   "outputs": [],
   "source": [
    "def print_stats(session, feature_batch, label_batch, cost, accuracy):\n",
    "    \"\"\"\n",
    "    Print information about loss and validation accuracy\n",
    "    : session: Current TensorFlow session\n",
    "    : feature_batch: Batch of Numpy image data\n",
    "    : label_batch: Batch of Numpy label data\n",
    "    : cost: TensorFlow cost function\n",
    "    : accuracy: TensorFlow accuracy function\n",
    "    \"\"\"\n",
    "    loss = session.run(cost, feed_dict={x: feature_batch, y: label_batch, keep_prob: 1.0})\n",
    "    accuracy = session.run(accuracy, feed_dict={x: valid_features, y: valid_labels, keep_prob: 1.0})\n",
    "    print(\"Loss: {} Accuracy: {}\".format(loss, accuracy))\n",
    "    \n"
   ]
  },
  {
   "cell_type": "markdown",
   "metadata": {
    "deletable": true,
    "editable": true
   },
   "source": [
    "### Hyperparameters\n",
    "Tune the following parameters:\n",
    "* Set `epochs` to the number of iterations until the network stops learning or start overfitting\n",
    "* Set `batch_size` to the highest number that your machine has memory for.  Most people set them to common sizes of memory:\n",
    " * 64\n",
    " * 128\n",
    " * 256\n",
    " * ...\n",
    "* Set `keep_probability` to the probability of keeping a node using dropout"
   ]
  },
  {
   "cell_type": "code",
   "execution_count": 33,
   "metadata": {
    "collapsed": false,
    "deletable": true,
    "editable": true
   },
   "outputs": [],
   "source": [
    "# TODO: Tune Parameters\n",
    "epochs = 25\n",
    "batch_size = 256\n",
    "keep_probability = 0.7"
   ]
  },
  {
   "cell_type": "markdown",
   "metadata": {
    "deletable": true,
    "editable": true
   },
   "source": [
    "### Train on a Single CIFAR-10 Batch\n",
    "Instead of training the neural network on all the CIFAR-10 batches of data, let's use a single batch. This should save time while you iterate on the model to get a better accuracy.  Once the final validation accuracy is 50% or greater, run the model on all the data in the next section."
   ]
  },
  {
   "cell_type": "code",
   "execution_count": 34,
   "metadata": {
    "collapsed": false,
    "deletable": true,
    "editable": true
   },
   "outputs": [
    {
     "name": "stdout",
     "output_type": "stream",
     "text": [
      "Checking the Training on a Single Batch...\n",
      "Epoch  1, CIFAR-10 Batch 1:  Loss: 2.2012267112731934 Accuracy: 0.1355999857187271\n",
      "Epoch  2, CIFAR-10 Batch 1:  Loss: 2.0993950366973877 Accuracy: 0.21079999208450317\n",
      "Epoch  3, CIFAR-10 Batch 1:  Loss: 2.0109641551971436 Accuracy: 0.2667999863624573\n",
      "Epoch  4, CIFAR-10 Batch 1:  Loss: 1.8960521221160889 Accuracy: 0.3073999881744385\n",
      "Epoch  5, CIFAR-10 Batch 1:  Loss: 1.7609643936157227 Accuracy: 0.34540000557899475\n",
      "Epoch  6, CIFAR-10 Batch 1:  Loss: 1.66556978225708 Accuracy: 0.3675999939441681\n",
      "Epoch  7, CIFAR-10 Batch 1:  Loss: 1.5558083057403564 Accuracy: 0.370199978351593\n",
      "Epoch  8, CIFAR-10 Batch 1:  Loss: 1.4864156246185303 Accuracy: 0.37299999594688416\n",
      "Epoch  9, CIFAR-10 Batch 1:  Loss: 1.4258508682250977 Accuracy: 0.3813999891281128\n",
      "Epoch 10, CIFAR-10 Batch 1:  Loss: 1.4431560039520264 Accuracy: 0.3715999722480774\n",
      "Epoch 11, CIFAR-10 Batch 1:  Loss: 1.2953479290008545 Accuracy: 0.37279996275901794\n",
      "Epoch 12, CIFAR-10 Batch 1:  Loss: 1.194399118423462 Accuracy: 0.3977999687194824\n",
      "Epoch 13, CIFAR-10 Batch 1:  Loss: 1.283267617225647 Accuracy: 0.38979998230934143\n",
      "Epoch 14, CIFAR-10 Batch 1:  Loss: 1.0647952556610107 Accuracy: 0.40039998292922974\n",
      "Epoch 15, CIFAR-10 Batch 1:  Loss: 1.0714247226715088 Accuracy: 0.39379996061325073\n",
      "Epoch 16, CIFAR-10 Batch 1:  Loss: 0.978952944278717 Accuracy: 0.42799997329711914\n",
      "Epoch 17, CIFAR-10 Batch 1:  Loss: 0.9179742932319641 Accuracy: 0.4415999948978424\n",
      "Epoch 18, CIFAR-10 Batch 1:  Loss: 0.9051015377044678 Accuracy: 0.4375999867916107\n",
      "Epoch 19, CIFAR-10 Batch 1:  Loss: 0.8271706104278564 Accuracy: 0.43939992785453796\n",
      "Epoch 20, CIFAR-10 Batch 1:  Loss: 0.7733635902404785 Accuracy: 0.43699997663497925\n",
      "Epoch 21, CIFAR-10 Batch 1:  Loss: 0.7472453117370605 Accuracy: 0.4293999671936035\n",
      "Epoch 22, CIFAR-10 Batch 1:  Loss: 0.7116614580154419 Accuracy: 0.4569999873638153\n",
      "Epoch 23, CIFAR-10 Batch 1:  Loss: 0.6655319929122925 Accuracy: 0.4765999913215637\n",
      "Epoch 24, CIFAR-10 Batch 1:  Loss: 0.6766548156738281 Accuracy: 0.45319995284080505\n",
      "Epoch 25, CIFAR-10 Batch 1:  Loss: 0.6067535281181335 Accuracy: 0.43959999084472656\n"
     ]
    }
   ],
   "source": [
    "\"\"\"\n",
    "DON'T MODIFY ANYTHING IN THIS CELL\n",
    "\"\"\"\n",
    "print('Checking the Training on a Single Batch...')\n",
    "with tf.Session() as sess:\n",
    "    # Initializing the variables\n",
    "    sess.run(tf.global_variables_initializer())\n",
    "    \n",
    "    # Training cycle\n",
    "    for epoch in range(epochs):\n",
    "        batch_i = 1\n",
    "        for batch_features, batch_labels in helper.load_preprocess_training_batch(batch_i, batch_size):\n",
    "            train_neural_network(sess, optimizer, keep_probability, batch_features, batch_labels)\n",
    "        print('Epoch {:>2}, CIFAR-10 Batch {}:  '.format(epoch + 1, batch_i), end='')\n",
    "        print_stats(sess, batch_features, batch_labels, cost, accuracy)"
   ]
  },
  {
   "cell_type": "markdown",
   "metadata": {
    "deletable": true,
    "editable": true
   },
   "source": [
    "### Fully Train the Model\n",
    "Now that you got a good accuracy with a single CIFAR-10 batch, try it with all five batches."
   ]
  },
  {
   "cell_type": "code",
   "execution_count": 35,
   "metadata": {
    "collapsed": false,
    "deletable": true,
    "editable": true
   },
   "outputs": [
    {
     "name": "stdout",
     "output_type": "stream",
     "text": [
      "Training...\n",
      "Epoch  1, CIFAR-10 Batch 1:  Loss: 2.2450146675109863 Accuracy: 0.22359998524188995\n",
      "Epoch  1, CIFAR-10 Batch 2:  Loss: 2.045376777648926 Accuracy: 0.2181999832391739\n",
      "Epoch  1, CIFAR-10 Batch 3:  Loss: 1.8643207550048828 Accuracy: 0.2425999939441681\n",
      "Epoch  1, CIFAR-10 Batch 4:  Loss: 1.7445623874664307 Accuracy: 0.31379997730255127\n",
      "Epoch  1, CIFAR-10 Batch 5:  Loss: 1.8591097593307495 Accuracy: 0.31519997119903564\n",
      "Epoch  2, CIFAR-10 Batch 1:  Loss: 1.893880844116211 Accuracy: 0.32259997725486755\n",
      "Epoch  2, CIFAR-10 Batch 2:  Loss: 1.6271564960479736 Accuracy: 0.3375999927520752\n",
      "Epoch  2, CIFAR-10 Batch 3:  Loss: 1.5461947917938232 Accuracy: 0.33239999413490295\n",
      "Epoch  2, CIFAR-10 Batch 4:  Loss: 1.5586612224578857 Accuracy: 0.33739998936653137\n",
      "Epoch  2, CIFAR-10 Batch 5:  Loss: 1.6595444679260254 Accuracy: 0.36319997906684875\n",
      "Epoch  3, CIFAR-10 Batch 1:  Loss: 1.7946157455444336 Accuracy: 0.3449999988079071\n",
      "Epoch  3, CIFAR-10 Batch 2:  Loss: 1.4886364936828613 Accuracy: 0.3567999601364136\n",
      "Epoch  3, CIFAR-10 Batch 3:  Loss: 1.4314712285995483 Accuracy: 0.3537999987602234\n",
      "Epoch  3, CIFAR-10 Batch 4:  Loss: 1.404066801071167 Accuracy: 0.3749999701976776\n",
      "Epoch  3, CIFAR-10 Batch 5:  Loss: 1.5797101259231567 Accuracy: 0.39219996333122253\n",
      "Epoch  4, CIFAR-10 Batch 1:  Loss: 1.6183600425720215 Accuracy: 0.36980000138282776\n",
      "Epoch  4, CIFAR-10 Batch 2:  Loss: 1.3676939010620117 Accuracy: 0.41199997067451477\n",
      "Epoch  4, CIFAR-10 Batch 3:  Loss: 1.2978954315185547 Accuracy: 0.38999998569488525\n",
      "Epoch  4, CIFAR-10 Batch 4:  Loss: 1.3838059902191162 Accuracy: 0.41839998960494995\n",
      "Epoch  4, CIFAR-10 Batch 5:  Loss: 1.4012712240219116 Accuracy: 0.4193999767303467\n",
      "Epoch  5, CIFAR-10 Batch 1:  Loss: 1.5317412614822388 Accuracy: 0.3935999870300293\n",
      "Epoch  5, CIFAR-10 Batch 2:  Loss: 1.1942362785339355 Accuracy: 0.42379996180534363\n",
      "Epoch  5, CIFAR-10 Batch 3:  Loss: 1.2562898397445679 Accuracy: 0.39139997959136963\n",
      "Epoch  5, CIFAR-10 Batch 4:  Loss: 1.263266682624817 Accuracy: 0.42459994554519653\n",
      "Epoch  5, CIFAR-10 Batch 5:  Loss: 1.315927267074585 Accuracy: 0.41579994559288025\n",
      "Epoch  6, CIFAR-10 Batch 1:  Loss: 1.470747470855713 Accuracy: 0.43919995427131653\n",
      "Epoch  6, CIFAR-10 Batch 2:  Loss: 1.0494115352630615 Accuracy: 0.43359997868537903\n",
      "Epoch  6, CIFAR-10 Batch 3:  Loss: 1.11831533908844 Accuracy: 0.41739997267723083\n",
      "Epoch  6, CIFAR-10 Batch 4:  Loss: 1.112234354019165 Accuracy: 0.4535999894142151\n",
      "Epoch  6, CIFAR-10 Batch 5:  Loss: 1.1435490846633911 Accuracy: 0.4679999351501465\n",
      "Epoch  7, CIFAR-10 Batch 1:  Loss: 1.380600929260254 Accuracy: 0.40919995307922363\n",
      "Epoch  7, CIFAR-10 Batch 2:  Loss: 0.9178869128227234 Accuracy: 0.44599997997283936\n",
      "Epoch  7, CIFAR-10 Batch 3:  Loss: 0.9673705101013184 Accuracy: 0.4415999948978424\n",
      "Epoch  7, CIFAR-10 Batch 4:  Loss: 1.0353443622589111 Accuracy: 0.4505999684333801\n",
      "Epoch  7, CIFAR-10 Batch 5:  Loss: 1.0477174520492554 Accuracy: 0.46799996495246887\n",
      "Epoch  8, CIFAR-10 Batch 1:  Loss: 1.2539093494415283 Accuracy: 0.4437999725341797\n",
      "Epoch  8, CIFAR-10 Batch 2:  Loss: 0.8537142276763916 Accuracy: 0.4535999596118927\n",
      "Epoch  8, CIFAR-10 Batch 3:  Loss: 0.8894691467285156 Accuracy: 0.45879995822906494\n",
      "Epoch  8, CIFAR-10 Batch 4:  Loss: 0.9011462330818176 Accuracy: 0.48259997367858887\n",
      "Epoch  8, CIFAR-10 Batch 5:  Loss: 0.9048410654067993 Accuracy: 0.49219995737075806\n",
      "Epoch  9, CIFAR-10 Batch 1:  Loss: 1.1037187576293945 Accuracy: 0.478799968957901\n",
      "Epoch  9, CIFAR-10 Batch 2:  Loss: 0.781927227973938 Accuracy: 0.4647999405860901\n",
      "Epoch  9, CIFAR-10 Batch 3:  Loss: 0.8578298091888428 Accuracy: 0.4336000084877014\n",
      "Epoch  9, CIFAR-10 Batch 4:  Loss: 0.7787796854972839 Accuracy: 0.4853999614715576\n",
      "Epoch  9, CIFAR-10 Batch 5:  Loss: 0.7947695255279541 Accuracy: 0.506399929523468\n",
      "Epoch 10, CIFAR-10 Batch 1:  Loss: 0.9709198474884033 Accuracy: 0.4813999831676483\n",
      "Epoch 10, CIFAR-10 Batch 2:  Loss: 0.696503221988678 Accuracy: 0.47599995136260986\n",
      "Epoch 10, CIFAR-10 Batch 3:  Loss: 0.8689258694648743 Accuracy: 0.4859999418258667\n",
      "Epoch 10, CIFAR-10 Batch 4:  Loss: 0.6838582158088684 Accuracy: 0.4971999526023865\n",
      "Epoch 10, CIFAR-10 Batch 5:  Loss: 0.7251065969467163 Accuracy: 0.5073999166488647\n",
      "Epoch 11, CIFAR-10 Batch 1:  Loss: 0.9049919843673706 Accuracy: 0.5117999315261841\n",
      "Epoch 11, CIFAR-10 Batch 2:  Loss: 0.6959421634674072 Accuracy: 0.4729999601840973\n",
      "Epoch 11, CIFAR-10 Batch 3:  Loss: 0.6609850525856018 Accuracy: 0.4991999566555023\n",
      "Epoch 11, CIFAR-10 Batch 4:  Loss: 0.6077769994735718 Accuracy: 0.5219999551773071\n",
      "Epoch 11, CIFAR-10 Batch 5:  Loss: 0.654057502746582 Accuracy: 0.5151999592781067\n",
      "Epoch 12, CIFAR-10 Batch 1:  Loss: 0.932666003704071 Accuracy: 0.4835999608039856\n",
      "Epoch 12, CIFAR-10 Batch 2:  Loss: 0.6425741314888 Accuracy: 0.48479995131492615\n",
      "Epoch 12, CIFAR-10 Batch 3:  Loss: 0.5985822081565857 Accuracy: 0.4909999370574951\n",
      "Epoch 12, CIFAR-10 Batch 4:  Loss: 0.556951642036438 Accuracy: 0.5101999640464783\n",
      "Epoch 12, CIFAR-10 Batch 5:  Loss: 0.616541862487793 Accuracy: 0.5251999497413635\n",
      "Epoch 13, CIFAR-10 Batch 1:  Loss: 0.7399023771286011 Accuracy: 0.5295999050140381\n",
      "Epoch 13, CIFAR-10 Batch 2:  Loss: 0.5724737644195557 Accuracy: 0.4941999614238739\n",
      "Epoch 13, CIFAR-10 Batch 3:  Loss: 0.5541368722915649 Accuracy: 0.5029999613761902\n",
      "Epoch 13, CIFAR-10 Batch 4:  Loss: 0.49291670322418213 Accuracy: 0.5327999591827393\n",
      "Epoch 13, CIFAR-10 Batch 5:  Loss: 0.5644533038139343 Accuracy: 0.5047999620437622\n",
      "Epoch 14, CIFAR-10 Batch 1:  Loss: 0.7256839275360107 Accuracy: 0.5273998975753784\n",
      "Epoch 14, CIFAR-10 Batch 2:  Loss: 0.5641112327575684 Accuracy: 0.46039995551109314\n",
      "Epoch 14, CIFAR-10 Batch 3:  Loss: 0.5694228410720825 Accuracy: 0.5127999186515808\n",
      "Epoch 14, CIFAR-10 Batch 4:  Loss: 0.45328986644744873 Accuracy: 0.5353999733924866\n",
      "Epoch 14, CIFAR-10 Batch 5:  Loss: 0.5191940069198608 Accuracy: 0.5235999226570129\n",
      "Epoch 15, CIFAR-10 Batch 1:  Loss: 0.6271462440490723 Accuracy: 0.5109999775886536\n",
      "Epoch 15, CIFAR-10 Batch 2:  Loss: 0.4586474299430847 Accuracy: 0.495199978351593\n",
      "Epoch 15, CIFAR-10 Batch 3:  Loss: 0.5150639414787292 Accuracy: 0.5109999179840088\n",
      "Epoch 15, CIFAR-10 Batch 4:  Loss: 0.427200585603714 Accuracy: 0.5405999422073364\n",
      "Epoch 15, CIFAR-10 Batch 5:  Loss: 0.48967376351356506 Accuracy: 0.5389999151229858\n",
      "Epoch 16, CIFAR-10 Batch 1:  Loss: 0.5873649716377258 Accuracy: 0.5130000114440918\n",
      "Epoch 16, CIFAR-10 Batch 2:  Loss: 0.4015740156173706 Accuracy: 0.5013999342918396\n",
      "Epoch 16, CIFAR-10 Batch 3:  Loss: 0.39886847138404846 Accuracy: 0.5125999450683594\n",
      "Epoch 16, CIFAR-10 Batch 4:  Loss: 0.3708062171936035 Accuracy: 0.5369999408721924\n",
      "Epoch 16, CIFAR-10 Batch 5:  Loss: 0.40549734234809875 Accuracy: 0.5055999159812927\n",
      "Epoch 17, CIFAR-10 Batch 1:  Loss: 0.5383219718933105 Accuracy: 0.4887999892234802\n",
      "Epoch 17, CIFAR-10 Batch 2:  Loss: 0.39892101287841797 Accuracy: 0.4873999357223511\n",
      "Epoch 17, CIFAR-10 Batch 3:  Loss: 0.39222726225852966 Accuracy: 0.5469998717308044\n",
      "Epoch 17, CIFAR-10 Batch 4:  Loss: 0.3839244544506073 Accuracy: 0.543199896812439\n",
      "Epoch 17, CIFAR-10 Batch 5:  Loss: 0.4342048764228821 Accuracy: 0.5243999361991882\n",
      "Epoch 18, CIFAR-10 Batch 1:  Loss: 0.48181647062301636 Accuracy: 0.531999945640564\n",
      "Epoch 18, CIFAR-10 Batch 2:  Loss: 0.33977293968200684 Accuracy: 0.5163999795913696\n",
      "Epoch 18, CIFAR-10 Batch 3:  Loss: 0.32887333631515503 Accuracy: 0.5275999307632446\n",
      "Epoch 18, CIFAR-10 Batch 4:  Loss: 0.30427107214927673 Accuracy: 0.5395998954772949\n",
      "Epoch 18, CIFAR-10 Batch 5:  Loss: 0.3503611981868744 Accuracy: 0.524199903011322\n",
      "Epoch 19, CIFAR-10 Batch 1:  Loss: 0.4421423673629761 Accuracy: 0.5267999172210693\n",
      "Epoch 19, CIFAR-10 Batch 2:  Loss: 0.35133257508277893 Accuracy: 0.4853999614715576\n",
      "Epoch 19, CIFAR-10 Batch 3:  Loss: 0.30372631549835205 Accuracy: 0.5181999802589417\n",
      "Epoch 19, CIFAR-10 Batch 4:  Loss: 0.2817392349243164 Accuracy: 0.543199896812439\n",
      "Epoch 19, CIFAR-10 Batch 5:  Loss: 0.37948232889175415 Accuracy: 0.5113999843597412\n",
      "Epoch 20, CIFAR-10 Batch 1:  Loss: 0.41262149810791016 Accuracy: 0.5211999416351318\n",
      "Epoch 20, CIFAR-10 Batch 2:  Loss: 0.289119154214859 Accuracy: 0.502799928188324\n",
      "Epoch 20, CIFAR-10 Batch 3:  Loss: 0.2659824788570404 Accuracy: 0.5133999586105347\n",
      "Epoch 20, CIFAR-10 Batch 4:  Loss: 0.23341712355613708 Accuracy: 0.5173999071121216\n",
      "Epoch 20, CIFAR-10 Batch 5:  Loss: 0.2450983226299286 Accuracy: 0.5377999544143677\n",
      "Epoch 21, CIFAR-10 Batch 1:  Loss: 0.3815212845802307 Accuracy: 0.514799952507019\n",
      "Epoch 21, CIFAR-10 Batch 2:  Loss: 0.33085912466049194 Accuracy: 0.49379995465278625\n",
      "Epoch 21, CIFAR-10 Batch 3:  Loss: 0.2946023941040039 Accuracy: 0.5189999341964722\n",
      "Epoch 21, CIFAR-10 Batch 4:  Loss: 0.2028893381357193 Accuracy: 0.5305999517440796\n",
      "Epoch 21, CIFAR-10 Batch 5:  Loss: 0.2801338732242584 Accuracy: 0.49619996547698975\n",
      "Epoch 22, CIFAR-10 Batch 1:  Loss: 0.2997131049633026 Accuracy: 0.5153999924659729\n",
      "Epoch 22, CIFAR-10 Batch 2:  Loss: 0.2605006694793701 Accuracy: 0.5003999471664429\n",
      "Epoch 22, CIFAR-10 Batch 3:  Loss: 0.2380899041891098 Accuracy: 0.5105999112129211\n",
      "Epoch 22, CIFAR-10 Batch 4:  Loss: 0.3311135768890381 Accuracy: 0.480599969625473\n",
      "Epoch 22, CIFAR-10 Batch 5:  Loss: 0.27873674035072327 Accuracy: 0.5387999415397644\n",
      "Epoch 23, CIFAR-10 Batch 1:  Loss: 0.3163177967071533 Accuracy: 0.535599946975708\n",
      "Epoch 23, CIFAR-10 Batch 2:  Loss: 0.2503027021884918 Accuracy: 0.5063999891281128\n",
      "Epoch 23, CIFAR-10 Batch 3:  Loss: 0.2175130546092987 Accuracy: 0.5243999361991882\n",
      "Epoch 23, CIFAR-10 Batch 4:  Loss: 0.219847172498703 Accuracy: 0.5155999660491943\n",
      "Epoch 23, CIFAR-10 Batch 5:  Loss: 0.20642432570457458 Accuracy: 0.5379999279975891\n",
      "Epoch 24, CIFAR-10 Batch 1:  Loss: 0.27484962344169617 Accuracy: 0.5125998854637146\n",
      "Epoch 24, CIFAR-10 Batch 2:  Loss: 0.21929384768009186 Accuracy: 0.4875999689102173\n",
      "Epoch 24, CIFAR-10 Batch 3:  Loss: 0.21834523975849152 Accuracy: 0.507599949836731\n",
      "Epoch 24, CIFAR-10 Batch 4:  Loss: 0.21993687748908997 Accuracy: 0.5067999362945557\n",
      "Epoch 24, CIFAR-10 Batch 5:  Loss: 0.20606815814971924 Accuracy: 0.5433999300003052\n",
      "Epoch 25, CIFAR-10 Batch 1:  Loss: 0.2564445436000824 Accuracy: 0.5297999382019043\n",
      "Epoch 25, CIFAR-10 Batch 2:  Loss: 0.1793728768825531 Accuracy: 0.49299997091293335\n",
      "Epoch 25, CIFAR-10 Batch 3:  Loss: 0.1920744627714157 Accuracy: 0.5162000060081482\n",
      "Epoch 25, CIFAR-10 Batch 4:  Loss: 0.18951556086540222 Accuracy: 0.5187999606132507\n",
      "Epoch 25, CIFAR-10 Batch 5:  Loss: 0.19723747670650482 Accuracy: 0.5285999774932861\n"
     ]
    }
   ],
   "source": [
    "\"\"\"\n",
    "DON'T MODIFY ANYTHING IN THIS CELL\n",
    "\"\"\"\n",
    "save_model_path = './image_classification'\n",
    "\n",
    "print('Training...')\n",
    "with tf.Session() as sess:\n",
    "    # Initializing the variables\n",
    "    sess.run(tf.global_variables_initializer())\n",
    "    \n",
    "    # Training cycle\n",
    "    for epoch in range(epochs):\n",
    "        # Loop over all batches\n",
    "        n_batches = 5\n",
    "        for batch_i in range(1, n_batches + 1):\n",
    "            for batch_features, batch_labels in helper.load_preprocess_training_batch(batch_i, batch_size):\n",
    "                train_neural_network(sess, optimizer, keep_probability, batch_features, batch_labels)\n",
    "            print('Epoch {:>2}, CIFAR-10 Batch {}:  '.format(epoch + 1, batch_i), end='')\n",
    "            print_stats(sess, batch_features, batch_labels, cost, accuracy)\n",
    "            \n",
    "    # Save Model\n",
    "    saver = tf.train.Saver()\n",
    "    save_path = saver.save(sess, save_model_path)"
   ]
  },
  {
   "cell_type": "markdown",
   "metadata": {
    "deletable": true,
    "editable": true
   },
   "source": [
    "# Checkpoint\n",
    "The model has been saved to disk.\n",
    "## Test Model\n",
    "Test your model against the test dataset.  This will be your final accuracy. You should have an accuracy greater than 50%. If you don't, keep tweaking the model architecture and parameters."
   ]
  },
  {
   "cell_type": "code",
   "execution_count": 37,
   "metadata": {
    "collapsed": false,
    "deletable": true,
    "editable": true
   },
   "outputs": [
    {
     "name": "stdout",
     "output_type": "stream",
     "text": [
      "Testing Accuracy: 0.58330078125\n",
      "\n"
     ]
    },
    {
     "data": {
      "image/png": "[encoded data removed]",
      "text/plain": [
       "<matplotlib.figure.Figure at 0x7f7954764f98>"
      ]
     },
     "metadata": {
      "image/png": {
       "height": 319,
       "width": 355
      }
     },
     "output_type": "display_data"
    }
   ],
   "source": [
    "\"\"\"\n",
    "DON'T MODIFY ANYTHING IN THIS CELL\n",
    "\"\"\"\n",
    "%matplotlib inline\n",
    "%config InlineBackend.figure_format = 'retina'\n",
    "\n",
    "import tensorflow as tf\n",
    "import pickle\n",
    "import helper\n",
    "import random\n",
    "\n",
    "# Set batch size if not already set\n",
    "try:\n",
    "    if batch_size:\n",
    "        pass\n",
    "except NameError:\n",
    "    batch_size = 64\n",
    "\n",
    "save_model_path = './image_classification'\n",
    "n_samples = 4\n",
    "top_n_predictions = 3\n",
    "\n",
    "def test_model():\n",
    "    \"\"\"\n",
    "    Test the saved model against the test dataset\n",
    "    \"\"\"\n",
    "\n",
    "    test_features, test_labels = pickle.load(open('preprocess_training.p', mode='rb'))\n",
    "    loaded_graph = tf.Graph()\n",
    "\n",
    "    with tf.Session(graph=loaded_graph) as sess:\n",
    "        # Load model\n",
    "        loader = tf.train.import_meta_graph(save_model_path + '.meta')\n",
    "        loader.restore(sess, save_model_path)\n",
    "\n",
    "        # Get Tensors from loaded model\n",
    "        loaded_x = loaded_graph.get_tensor_by_name('x:0')\n",
    "        loaded_y = loaded_graph.get_tensor_by_name('y:0')\n",
    "        loaded_keep_prob = loaded_graph.get_tensor_by_name('keep_prob:0')\n",
    "        loaded_logits = loaded_graph.get_tensor_by_name('logits:0')\n",
    "        loaded_acc = loaded_graph.get_tensor_by_name('accuracy:0')\n",
    "        \n",
    "        # Get accuracy in batches for memory limitations\n",
    "        test_batch_acc_total = 0\n",
    "        test_batch_count = 0\n",
    "        \n",
    "        for train_feature_batch, train_label_batch in helper.batch_features_labels(test_features, test_labels, batch_size):\n",
    "            test_batch_acc_total += sess.run(\n",
    "                loaded_acc,\n",
    "                feed_dict={loaded_x: train_feature_batch, loaded_y: train_label_batch, loaded_keep_prob: 1.0})\n",
    "            test_batch_count += 1\n",
    "\n",
    "        print('Testing Accuracy: {}\\n'.format(test_batch_acc_total/test_batch_count))\n",
    "\n",
    "        # Print Random Samples\n",
    "        random_test_features, random_test_labels = tuple(zip(*random.sample(list(zip(test_features, test_labels)), n_samples)))\n",
    "        random_test_predictions = sess.run(\n",
    "            tf.nn.top_k(tf.nn.softmax(loaded_logits), top_n_predictions),\n",
    "            feed_dict={loaded_x: random_test_features, loaded_y: random_test_labels, loaded_keep_prob: 1.0})\n",
    "        helper.display_image_predictions(random_test_features, random_test_labels, random_test_predictions)\n",
    "\n",
    "\n",
    "test_model()"
   ]
  },
  {
   "cell_type": "markdown",
   "metadata": {
    "deletable": true,
    "editable": true
   },
   "source": [
    "## Why 50-70% Accuracy?\n",
    "You might be wondering why you can't get an accuracy any higher. First things first, 50% isn't bad for a simple CNN.  Pure guessing would get you 10% accuracy. However, you might notice people are getting scores [well above 70%](http://rodrigob.github.io/are_we_there_yet/build/classification_datasets_results.html#43494641522d3130).  That's because we haven't taught you all there is to know about neural networks. We still need to cover a few more techniques.\n",
    "## Submitting This Project\n",
    "When submitting this project, make sure to run all the cells before saving the notebook.  Save the notebook file as \"dlnd_image_classification.ipynb\" and save it as a HTML file under \"File\" -> \"Download as\".  Include the \"helper.py\" and \"problem_unittests.py\" files in your submission."
   ]
  }
 ],
 "metadata": {
  "kernelspec": {
   "display_name": "Python 3",
   "language": "python",
   "name": "python3"
  },
  "language_info": {
   "codemirror_mode": {
    "name": "ipython",
    "version": 3
   },
   "file_extension": ".py",
   "mimetype": "text/x-python",
   "name": "python",
   "nbconvert_exporter": "python",
   "pygments_lexer": "ipython3",
   "version": "3.5.2"
  },
  "widgets": {
   "state": {},
   "version": "1.1.2"
  }
 },
 "nbformat": 4,
 "nbformat_minor": 0
}
